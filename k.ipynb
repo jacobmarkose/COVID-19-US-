{
 "cells": [
  {
   "cell_type": "code",
   "execution_count": 1,
   "metadata": {},
   "outputs": [],
   "source": [
    "import pandas as pd\n",
    "import numpy as np\n",
    "import matplotlib.pyplot as plt\n",
    "from matplotlib import ticker  as ticker\n",
    "import pycountry_convert as pc\n",
    "import folium\n",
    "import branca\n",
    "from datetime import datetime, timedelta,date\n",
    "from scipy.interpolate import make_interp_spline, BSpline\n",
    "import plotly.express as px\n",
    "import warnings\n",
    "warnings.filterwarnings('ignore')\n",
    "import calmap\n",
    "import matplotlib.ticker as ticker"
   ]
  },
  {
   "cell_type": "code",
   "execution_count": 2,
   "metadata": {},
   "outputs": [],
   "source": [
    "a=pd.read_csv(r'E:\\Dataset\\Medical.csv', skiprows=2)\n",
    "pd.set_option('display.max_colwidth', -1)\n",
    "pd.set_option(\"display.max_columns\",None)\n",
    "pd.set_option(\"display.max_rows\",None)\n"
   ]
  },
  {
   "cell_type": "code",
   "execution_count": 3,
   "metadata": {},
   "outputs": [],
   "source": [
    "a=a.drop(['Footnotes'],axis=1)\n",
    "a.drop(a.loc[53:58].index,inplace=True)"
   ]
  },
  {
   "cell_type": "code",
   "execution_count": 4,
   "metadata": {},
   "outputs": [],
   "source": [
    "a['Medicare Beneficiaries as a Share of Total Population'] = pd.Series([\"{0:.0f}%\".format(val * 100/1) for val in a['Medicare Beneficiaries as a Share of Total Population']])\n"
   ]
  },
  {
   "cell_type": "code",
   "execution_count": 5,
   "metadata": {
    "scrolled": true
   },
   "outputs": [
    {
     "data": {
      "text/html": [
       "<div>\n",
       "<style scoped>\n",
       "    .dataframe tbody tr th:only-of-type {\n",
       "        vertical-align: middle;\n",
       "    }\n",
       "\n",
       "    .dataframe tbody tr th {\n",
       "        vertical-align: top;\n",
       "    }\n",
       "\n",
       "    .dataframe thead th {\n",
       "        text-align: right;\n",
       "    }\n",
       "</style>\n",
       "<table border=\"1\" class=\"dataframe\">\n",
       "  <thead>\n",
       "    <tr style=\"text-align: right;\">\n",
       "      <th></th>\n",
       "      <th>Location</th>\n",
       "      <th>Medicare Beneficiaries as a Share of Total Population</th>\n",
       "    </tr>\n",
       "  </thead>\n",
       "  <tbody>\n",
       "    <tr>\n",
       "      <th>0</th>\n",
       "      <td>United States</td>\n",
       "      <td>18%</td>\n",
       "    </tr>\n",
       "    <tr>\n",
       "      <th>1</th>\n",
       "      <td>Alabama</td>\n",
       "      <td>21%</td>\n",
       "    </tr>\n",
       "    <tr>\n",
       "      <th>2</th>\n",
       "      <td>Alaska</td>\n",
       "      <td>13%</td>\n",
       "    </tr>\n",
       "    <tr>\n",
       "      <th>3</th>\n",
       "      <td>Arizona</td>\n",
       "      <td>18%</td>\n",
       "    </tr>\n",
       "    <tr>\n",
       "      <th>4</th>\n",
       "      <td>Arkansas</td>\n",
       "      <td>21%</td>\n",
       "    </tr>\n",
       "  </tbody>\n",
       "</table>\n",
       "</div>"
      ],
      "text/plain": [
       "        Location Medicare Beneficiaries as a Share of Total Population\n",
       "0  United States  18%                                                 \n",
       "1  Alabama        21%                                                 \n",
       "2  Alaska         13%                                                 \n",
       "3  Arizona        18%                                                 \n",
       "4  Arkansas       21%                                                 "
      ]
     },
     "execution_count": 5,
     "metadata": {},
     "output_type": "execute_result"
    }
   ],
   "source": [
    "a.head(5)"
   ]
  },
  {
   "cell_type": "code",
   "execution_count": 6,
   "metadata": {},
   "outputs": [],
   "source": [
    "a['Medicare Beneficiaries as a Share of Total Population'] = a['Medicare Beneficiaries as a Share of Total Population'].str.rstrip('%').astype('int') "
   ]
  },
  {
   "cell_type": "code",
   "execution_count": 7,
   "metadata": {},
   "outputs": [
    {
     "data": {
      "text/html": [
       "<div>\n",
       "<style scoped>\n",
       "    .dataframe tbody tr th:only-of-type {\n",
       "        vertical-align: middle;\n",
       "    }\n",
       "\n",
       "    .dataframe tbody tr th {\n",
       "        vertical-align: top;\n",
       "    }\n",
       "\n",
       "    .dataframe thead th {\n",
       "        text-align: right;\n",
       "    }\n",
       "</style>\n",
       "<table border=\"1\" class=\"dataframe\">\n",
       "  <thead>\n",
       "    <tr style=\"text-align: right;\">\n",
       "      <th></th>\n",
       "      <th>Location</th>\n",
       "      <th>Medicare Beneficiaries as a Share of Total Population</th>\n",
       "    </tr>\n",
       "  </thead>\n",
       "  <tbody>\n",
       "    <tr>\n",
       "      <th>0</th>\n",
       "      <td>United States</td>\n",
       "      <td>18</td>\n",
       "    </tr>\n",
       "    <tr>\n",
       "      <th>1</th>\n",
       "      <td>Alabama</td>\n",
       "      <td>21</td>\n",
       "    </tr>\n",
       "    <tr>\n",
       "      <th>2</th>\n",
       "      <td>Alaska</td>\n",
       "      <td>13</td>\n",
       "    </tr>\n",
       "    <tr>\n",
       "      <th>3</th>\n",
       "      <td>Arizona</td>\n",
       "      <td>18</td>\n",
       "    </tr>\n",
       "    <tr>\n",
       "      <th>4</th>\n",
       "      <td>Arkansas</td>\n",
       "      <td>21</td>\n",
       "    </tr>\n",
       "  </tbody>\n",
       "</table>\n",
       "</div>"
      ],
      "text/plain": [
       "        Location  Medicare Beneficiaries as a Share of Total Population\n",
       "0  United States  18                                                   \n",
       "1  Alabama        21                                                   \n",
       "2  Alaska         13                                                   \n",
       "3  Arizona        18                                                   \n",
       "4  Arkansas       21                                                   "
      ]
     },
     "execution_count": 7,
     "metadata": {},
     "output_type": "execute_result"
    }
   ],
   "source": [
    "a.head(5)"
   ]
  },
  {
   "cell_type": "code",
   "execution_count": 8,
   "metadata": {},
   "outputs": [],
   "source": [
    "\n",
    "#a['Medicare Beneficiaries as a Share of Total Population'] = ([(val * 100/1) for val in a['Medicare Beneficiaries as a Share of Total Population']])"
   ]
  },
  {
   "cell_type": "code",
   "execution_count": 9,
   "metadata": {},
   "outputs": [],
   "source": [
    "a['Medicare Beneficiaries as a Share of Total Population']=a['Medicare Beneficiaries as a Share of Total Population'].astype(int)"
   ]
  },
  {
   "cell_type": "code",
   "execution_count": 10,
   "metadata": {
    "scrolled": false
   },
   "outputs": [
    {
     "data": {
      "text/html": [
       "<div>\n",
       "<style scoped>\n",
       "    .dataframe tbody tr th:only-of-type {\n",
       "        vertical-align: middle;\n",
       "    }\n",
       "\n",
       "    .dataframe tbody tr th {\n",
       "        vertical-align: top;\n",
       "    }\n",
       "\n",
       "    .dataframe thead th {\n",
       "        text-align: right;\n",
       "    }\n",
       "</style>\n",
       "<table border=\"1\" class=\"dataframe\">\n",
       "  <thead>\n",
       "    <tr style=\"text-align: right;\">\n",
       "      <th></th>\n",
       "      <th>Location</th>\n",
       "      <th>Medicare Beneficiaries as a Share of Total Population</th>\n",
       "    </tr>\n",
       "  </thead>\n",
       "  <tbody>\n",
       "    <tr>\n",
       "      <th>0</th>\n",
       "      <td>United States</td>\n",
       "      <td>18</td>\n",
       "    </tr>\n",
       "    <tr>\n",
       "      <th>1</th>\n",
       "      <td>Alabama</td>\n",
       "      <td>21</td>\n",
       "    </tr>\n",
       "    <tr>\n",
       "      <th>2</th>\n",
       "      <td>Alaska</td>\n",
       "      <td>13</td>\n",
       "    </tr>\n",
       "    <tr>\n",
       "      <th>3</th>\n",
       "      <td>Arizona</td>\n",
       "      <td>18</td>\n",
       "    </tr>\n",
       "    <tr>\n",
       "      <th>4</th>\n",
       "      <td>Arkansas</td>\n",
       "      <td>21</td>\n",
       "    </tr>\n",
       "    <tr>\n",
       "      <th>5</th>\n",
       "      <td>California</td>\n",
       "      <td>16</td>\n",
       "    </tr>\n",
       "    <tr>\n",
       "      <th>6</th>\n",
       "      <td>Colorado</td>\n",
       "      <td>16</td>\n",
       "    </tr>\n",
       "    <tr>\n",
       "      <th>7</th>\n",
       "      <td>Connecticut</td>\n",
       "      <td>19</td>\n",
       "    </tr>\n",
       "    <tr>\n",
       "      <th>8</th>\n",
       "      <td>Delaware</td>\n",
       "      <td>21</td>\n",
       "    </tr>\n",
       "    <tr>\n",
       "      <th>9</th>\n",
       "      <td>District of Columbia</td>\n",
       "      <td>14</td>\n",
       "    </tr>\n",
       "  </tbody>\n",
       "</table>\n",
       "</div>"
      ],
      "text/plain": [
       "               Location  Medicare Beneficiaries as a Share of Total Population\n",
       "0  United States         18                                                   \n",
       "1  Alabama               21                                                   \n",
       "2  Alaska                13                                                   \n",
       "3  Arizona               18                                                   \n",
       "4  Arkansas              21                                                   \n",
       "5  California            16                                                   \n",
       "6  Colorado              16                                                   \n",
       "7  Connecticut           19                                                   \n",
       "8  Delaware              21                                                   \n",
       "9  District of Columbia  14                                                   "
      ]
     },
     "execution_count": 10,
     "metadata": {},
     "output_type": "execute_result"
    }
   ],
   "source": [
    "a.head(10)"
   ]
  },
  {
   "cell_type": "code",
   "execution_count": 11,
   "metadata": {},
   "outputs": [
    {
     "data": {
      "text/plain": [
       "Location                                                 object\n",
       "Medicare Beneficiaries as a Share of Total Population    int32 \n",
       "dtype: object"
      ]
     },
     "execution_count": 11,
     "metadata": {},
     "output_type": "execute_result"
    }
   ],
   "source": [
    "a.dtypes"
   ]
  },
  {
   "cell_type": "code",
   "execution_count": 12,
   "metadata": {},
   "outputs": [
    {
     "data": {
      "text/plain": [
       "(53, 2)"
      ]
     },
     "execution_count": 12,
     "metadata": {},
     "output_type": "execute_result"
    }
   ],
   "source": [
    "a.shape"
   ]
  },
  {
   "cell_type": "code",
   "execution_count": null,
   "metadata": {},
   "outputs": [],
   "source": []
  },
  {
   "cell_type": "code",
   "execution_count": null,
   "metadata": {},
   "outputs": [],
   "source": []
  },
  {
   "cell_type": "code",
   "execution_count": null,
   "metadata": {},
   "outputs": [],
   "source": []
  },
  {
   "cell_type": "code",
   "execution_count": null,
   "metadata": {},
   "outputs": [],
   "source": []
  },
  {
   "cell_type": "code",
   "execution_count": null,
   "metadata": {
    "scrolled": false
   },
   "outputs": [],
   "source": []
  },
  {
   "cell_type": "code",
   "execution_count": 13,
   "metadata": {},
   "outputs": [
    {
     "data": {
      "image/png": "[encoded data removed]",
      "text/plain": [
       "<Figure size 720x720 with 1 Axes>"
      ]
     },
     "metadata": {},
     "output_type": "display_data"
    }
   ],
   "source": [
    "\n",
    "\n",
    "plt.style.use(\"ggplot\")\n",
    "ax = a.plot(kind='barh',figsize=(10,10),edgecolor=None)\n",
    "#f= plt.figure(figsize=(10,10))\n",
    "#ax=f.add_subplot(1,1,1)\n",
    "ax.set_yticklabels(a['Location'])\n",
    "\n",
    "\n",
    "#ax=plt.barh(a['Location'],a['Medicare Beneficiaries as a Share of Total Population'])\n",
    "#ax=plt.tick_params(size=5,labelsize = 10)\n",
    "for p in ax.patches:\n",
    "    width = p.get_width()\n",
    "    height = p.get_height()\n",
    "    x, y = p.get_xy()  \n",
    "    ax.annotate(f'{width:.0f}%', (x + width*1.02, y + height/2), ha='center')\n",
    "    \n",
    "plt.xlabel(\"Percent\",fontsize=18)\n",
    "plt.title(\"Medicare Beneficiaries as a Share of Total Population in %\",fontsize=20)\n",
    "plt.tight_layout()\n",
    "ax.get_legend().remove()\n",
    "\n"
   ]
  },
  {
   "cell_type": "code",
   "execution_count": 14,
   "metadata": {},
   "outputs": [],
   "source": [
    "ax.xaxis.set_major_formatter(ticker.PercentFormatter())\n",
    "ax.xaxis.set_major_locator(ticker.MultipleLocator())\n",
    "ax.xaxis.set_minor_locator(ticker.MultipleLocator())\n"
   ]
  },
  {
   "cell_type": "code",
   "execution_count": 15,
   "metadata": {},
   "outputs": [
    {
     "data": {
      "image/png": "[encoded data removed]",
      "text/plain": [
       "<Figure size 720x720 with 1 Axes>"
      ]
     },
     "metadata": {},
     "output_type": "display_data"
    }
   ],
   "source": [
    "f= plt.figure(figsize=(10,10))\n",
    "ax=f.add_subplot(1,1,1)\n",
    "\n",
    "ax.xaxis.set_major_formatter(ticker.PercentFormatter(decimals=0))\n",
    "ax=plt.barh(a['Location'],a['Medicare Beneficiaries as a Share of Total Population'])\n",
    "plt.tick_params(size=5,labelsize = 10)\n",
    "\n",
    "plt.xlabel(\"Percent\",fontsize=18)\n",
    "plt.title(\"Medicare Beneficiaries as a Share of Total Population in %\",fontsize=20)\n",
    "plt.tight_layout()\n",
    "\n",
    "\n"
   ]
  },
  {
   "cell_type": "code",
   "execution_count": 16,
   "metadata": {},
   "outputs": [],
   "source": [
    "index = a.index"
   ]
  },
  {
   "cell_type": "code",
   "execution_count": 17,
   "metadata": {},
   "outputs": [],
   "source": [
    "a.sort_values(by=['Location'], inplace=True)"
   ]
  },
  {
   "cell_type": "code",
   "execution_count": 18,
   "metadata": {},
   "outputs": [
    {
     "ename": "SyntaxError",
     "evalue": "unexpected character after line continuation character (<ipython-input-18-2398573e411e>, line 5)",
     "output_type": "error",
     "traceback": [
      "\u001b[1;36m  File \u001b[1;32m\"<ipython-input-18-2398573e411e>\"\u001b[1;36m, line \u001b[1;32m5\u001b[0m\n\u001b[1;33m    plt.barh(a[\\'Location\\'],a[\\'Medicare Beneficiaries as a Share of Total Population\\'])\u001b[0m\n\u001b[1;37m                                                                                          ^\u001b[0m\n\u001b[1;31mSyntaxError\u001b[0m\u001b[1;31m:\u001b[0m unexpected character after line continuation character\n"
     ]
    }
   ],
   "source": [
    "#plt.style.use(\\'ggplot\\')\n",
    "f = plt.figure(figsize=(10,10))\n",
    "f.add_subplot(111)\n",
    "plt.axes(axisbelow=True)\n",
    "plt.barh(a[\\'Location\\'],a[\\'Medicare Beneficiaries as a Share of Total Population\\'])\n",
    "plt.tick_params(size=5,labelsize = 10)\n",
    "plt.xlabel(\"Percent\",fontsize=18)\n",
    "plt.title(\"Medicare Beneficiaries as a Share of Total Population in %\",fontsize=20)\n",
    "#plt.grid(alpha=0.3)\n",
    "plt.tight_layout()\n",
    "p.xaxis.set_major_formatter(ticker.PercentFormatter(1))\n",
    "from matplotlib.ticker import PercentFormatter'\n",
    "           "
   ]
  },
  {
   "cell_type": "code",
   "execution_count": null,
   "metadata": {},
   "outputs": [],
   "source": [
    "labels=[0,5,10,15,20,25]\n",
    "plt.xticks(labels)"
   ]
  },
  {
   "cell_type": "code",
   "execution_count": null,
   "metadata": {},
   "outputs": [],
   "source": [
    "from matplotlib.ticker import PercentFormatter\n",
    "from matplotlib import rc"
   ]
  },
  {
   "cell_type": "code",
   "execution_count": null,
   "metadata": {},
   "outputs": [],
   "source": [
    "\n",
    "\n",
    "plt.style.use(\"ggplot\")\n",
    "a= a.sort_values('Medicare Beneficiaries as a Share of Total Population')\n",
    "ax = a.plot(kind='barh',figsize=(10,10),edgecolor=None)\n",
    "#f= plt.figure(figsize=(10,10))\n",
    "#ax=f.add_subplot(1,1,1)\n",
    "\n",
    "\n",
    "#a.sort_values(by='Medicare Beneficiaries as a Share of Total Population',ascending=True)\n",
    "ax.set_yticklabels(a['Location'])\n",
    "#ax.get_yticklabels()[1].set_color(\"red\")\n",
    "#ax.tick_params(size=5)\n",
    "\n",
    "#ax=plt.barh(a['Location'],a['Medicare Beneficiaries as a Share of Total Population'])\n",
    "#ax=plt.tick_params(size=5,labelsize = 10)\n",
    "for p in ax.patches:\n",
    "    width = p.get_width()\n",
    "    height = p.get_height()\n",
    "    x, y = p.get_xy()  \n",
    "    ax.annotate(f'{width:.0f}%', (x + width*1.02, y + height/2), ha='center')\n",
    "    \n",
    "plt.xlabel(\"Percent\",fontsize=18)\n",
    "plt.title(\"Medicare Beneficiaries as a Share of Total Population in %\",fontsize=20)\n",
    "plt.tight_layout()\n",
    "\n",
    "ax.xaxis.set_major_formatter(ticker.PercentFormatter(decimals=0))\n",
    "plt.xlabel(\"Percent\",fontsize=18)\n",
    "plt.title(\"Medicare Beneficiaries as a Share of Total Population in %\",fontsize=20)\n",
    "plt.tight_layout()\n",
    "ax.get_legend().remove()"
   ]
  },
  {
   "cell_type": "code",
   "execution_count": null,
   "metadata": {},
   "outputs": [],
   "source": [
    "b=pd.read_csv(r'E:\\Dataset\\raw_data (3).csv', skiprows=2)\n",
    "pd.set_option('display.max_colwidth', None)\n",
    "pd.set_option(\"display.max_columns\",None)\n",
    "pd.set_option(\"display.max_rows\",None)\n"
   ]
  },
  {
   "cell_type": "code",
   "execution_count": null,
   "metadata": {},
   "outputs": [],
   "source": [
    "b=b.drop(['Footnotes'],axis=1)\n",
    "b.drop(b.loc[57:68].index,inplace=True)\n"
   ]
  },
  {
   "cell_type": "code",
   "execution_count": null,
   "metadata": {},
   "outputs": [],
   "source": [
    "b"
   ]
  },
  {
   "cell_type": "code",
   "execution_count": null,
   "metadata": {},
   "outputs": [],
   "source": [
    "b.dtypes"
   ]
  },
  {
   "cell_type": "code",
   "execution_count": null,
   "metadata": {},
   "outputs": [],
   "source": [
    "\n",
    "b.style.format({'Original Medicare': '{:,.0f}','Medicare Advantage': '{:,.0f}','Total': '{:,.0f}'})\\\n",
    "                .background_gradient(cmap='Blues')"
   ]
  },
  {
   "cell_type": "code",
   "execution_count": null,
   "metadata": {},
   "outputs": [],
   "source": [
    "b.style.applymap("
   ]
  },
  {
   "cell_type": "code",
   "execution_count": null,
   "metadata": {},
   "outputs": [],
   "source": [
    "b.style.background_gradient(cmap='Blues',subset=[\"Original Medicare\"])\\\n",
    "                        .background_gradient(cmap='Reds',subset=[\"Medicare Advantage\"])\\\n",
    "                        .background_gradient(cmap='Greens',subset=[\"Total\"])\n",
    "\n"
   ]
  },
  {
   "cell_type": "code",
   "execution_count": null,
   "metadata": {},
   "outputs": [],
   "source": [
    "c=pd.read_csv(r'E:\\Dataset\\raw_data (4).csv', skiprows=2)\n",
    "pd.set_option('display.max_colwidth', None)\n",
    "pd.set_option(\"display.max_columns\",None)\n",
    "pd.set_option(\"display.max_rows\",None)"
   ]
  },
  {
   "cell_type": "code",
   "execution_count": null,
   "metadata": {},
   "outputs": [],
   "source": [
    "c"
   ]
  },
  {
   "cell_type": "code",
   "execution_count": null,
   "metadata": {},
   "outputs": [],
   "source": [
    "c=c.drop(['Footnotes'], axis = 1)\n",
    "c.drop(c.loc[52:61].index,inplace=True)"
   ]
  },
  {
   "cell_type": "code",
   "execution_count": null,
   "metadata": {},
   "outputs": [],
   "source": [
    "c.head()"
   ]
  },
  {
   "cell_type": "code",
   "execution_count": null,
   "metadata": {},
   "outputs": [],
   "source": [
    "c.dtypes"
   ]
  },
  {
   "cell_type": "code",
   "execution_count": null,
   "metadata": {},
   "outputs": [],
   "source": [
    "c=c.replace(['NR', '<.01'],  [0, .01]) \n",
    "c=c.replace(np.nan,0)"
   ]
  },
  {
   "cell_type": "code",
   "execution_count": null,
   "metadata": {},
   "outputs": [],
   "source": [
    "#c['White % of Cases'] = c['White % of Cases'].replace('NR', '0', regex=True)\n",
    "\n",
    "#c['American Indian or Alaska Native % of Total Population'] = c['American Indian or Alaska Native % of Total Population'].replace('NR', '0', regex=True)\n",
    "#\n",
    "c['White % of Cases'] = c['White % of Cases'].astype(float)\n"
   ]
  },
  {
   "cell_type": "code",
   "execution_count": null,
   "metadata": {},
   "outputs": [],
   "source": [
    "c.sample()"
   ]
  },
  {
   "cell_type": "code",
   "execution_count": null,
   "metadata": {},
   "outputs": [],
   "source": [
    "c=c.drop(['Race Categories Include Hispanic Individuals'],axis=1)"
   ]
  },
  {
   "cell_type": "code",
   "execution_count": null,
   "metadata": {
    "scrolled": true
   },
   "outputs": [],
   "source": [
    "c"
   ]
  },
  {
   "cell_type": "code",
   "execution_count": null,
   "metadata": {
    "scrolled": true
   },
   "outputs": [],
   "source": [
    "#c.iloc[:, 1:18].apply(pd.to_numeric).head()\n",
    "c.loc[:, c.columns != 'Location']=c.loc[:, c.columns != 'Location'].apply(pd.to_numeric)"
   ]
  },
  {
   "cell_type": "code",
   "execution_count": null,
   "metadata": {},
   "outputs": [],
   "source": [
    "c.dtypes"
   ]
  },
  {
   "cell_type": "code",
   "execution_count": null,
   "metadata": {},
   "outputs": [],
   "source": [
    "c.head()"
   ]
  },
  {
   "cell_type": "code",
   "execution_count": null,
   "metadata": {},
   "outputs": [],
   "source": [
    "c.dtypes"
   ]
  },
  {
   "cell_type": "code",
   "execution_count": null,
   "metadata": {},
   "outputs": [],
   "source": [
    "c[c.select_dtypes(include=['number']).columns] *= 100\n"
   ]
  },
  {
   "cell_type": "code",
   "execution_count": null,
   "metadata": {
    "scrolled": false
   },
   "outputs": [],
   "source": [
    "c.dtypes"
   ]
  },
  {
   "cell_type": "code",
   "execution_count": null,
   "metadata": {
    "scrolled": false
   },
   "outputs": [],
   "source": [
    "c.head()"
   ]
  },
  {
   "cell_type": "code",
   "execution_count": null,
   "metadata": {
    "scrolled": true
   },
   "outputs": [],
   "source": [
    "jj=c.iloc[:,0]\n",
    "sk=c.iloc[:,1]\n",
    "pk=c.iloc[:,2]\n",
    "kl=c.iloc[:,3]\n",
    "jk=c.iloc[:,4]\n",
    "fk=c.iloc[:,5]\n",
    "wek=c.iloc[:,6]\n",
    "gh=c.iloc[:,7]\n",
    "ds=c.iloc[:,8]\n",
    "gf=c.iloc[:,9]\n",
    "gr=c.iloc[:,10]\n",
    "cv=c.iloc[:,11]\n",
    "hf=c.iloc[:,12]\n",
    "sc=c.iloc[:,13]\n",
    "wd=c.iloc[:,14]\n",
    "ty=c.iloc[:,15]\n",
    "uj=c.iloc[:,16]\n",
    "index=np.arange(len(c))\n",
    "\n",
    "plt.figure(figsize=(17,10))\n",
    "\n",
    "#graph=plt.barh(y=index,width=sk)\n",
    "#graph1=plt.barh(y=index,width=pk,left=sk)\n",
    "\n",
    "graph=plt.bar(x=index,height=sk)\n",
    "graph1=plt.bar(x=index,height=pk,bottom=sk)\n",
    "graph2=plt.bar(x=index,height=kl,bottom=pk+sk)\n",
    "graph3=plt.bar(x=index,height=jk,bottom=sk+pk+kl)\n",
    "grap4=plt.bar(x=index,height=fk,bottom=sk+pk+kl+jk)\n",
    "graph5=plt.bar(x=index,height=wek,bottom=sk+pk+kl+jk+fk)\n",
    "grap6=plt.bar(x=index,height=gh,bottom=sk+pk+kl+jk+fk+wek)\n",
    "graph7=plt.bar(x=index,height=ds,bottom=sk+pk+kl+jk+fk+wek+gh)\n",
    "grap8=plt.bar(x=index,height=gf,bottom=sk+pk+kl+jk+fk+wek+gh+ds)\n",
    "graph9=plt.bar(x=index,height=gr,bottom=sk+pk+kl+jk+fk+wek+gh+ds+gf)\n",
    "graph10=plt.bar(x=index,height=cv,bottom=sk+pk+kl+jk+fk+wek+gh+ds+gf+gr)\n",
    "graph11=plt.bar(x=index,height=hf,bottom=sk+pk+kl+jk+fk+wek+gh+ds+gf+gr+cv)\n",
    "graph12=plt.bar(x=index,height=sc,bottom=sk+pk+kl+jk+fk+wek+gh+ds+gf+gr+cv+hf)\n",
    "graph13=plt.bar(x=index,height=wd,bottom=sk+pk+kl+jk+fk+wek+gh+ds+gf+gr+cv+hf+sc)\n",
    "graph14=plt.bar(x=index,height=ty,bottom=sk+pk+kl+jk+fk+wek+gh+ds+gf+gr+cv+hf+sc+wd)\n",
    "graph15=plt.bar(x=index,height=uj,bottom=sk+pk+kl+jk+fk+wek+gh+ds+gf+gr+cv+hf+sc+wd+ty)\n",
    "\n",
    "plt.xticks(index,jj,rotation=90)\n",
    "\n",
    "\n",
    "\n"
   ]
  },
  {
   "cell_type": "code",
   "execution_count": null,
   "metadata": {},
   "outputs": [],
   "source": []
  },
  {
   "cell_type": "code",
   "execution_count": null,
   "metadata": {},
   "outputs": [],
   "source": []
  },
  {
   "cell_type": "code",
   "execution_count": null,
   "metadata": {},
   "outputs": [],
   "source": []
  },
  {
   "cell_type": "code",
   "execution_count": null,
   "metadata": {},
   "outputs": [],
   "source": []
  },
  {
   "cell_type": "code",
   "execution_count": null,
   "metadata": {},
   "outputs": [],
   "source": [
    "d=pd.read_csv(r'E:\\Dataset\\raw_data (6).csv', skiprows=2)\n",
    "pd.set_option('display.max_colwidth', None)\n",
    "pd.set_option(\"display.max_columns\",None)\n",
    "pd.set_option(\"display.max_rows\",None)\n"
   ]
  },
  {
   "cell_type": "code",
   "execution_count": null,
   "metadata": {},
   "outputs": [],
   "source": [
    "d"
   ]
  },
  {
   "cell_type": "code",
   "execution_count": null,
   "metadata": {},
   "outputs": [],
   "source": [
    "d=d.drop(['Footnotes'], axis = 1)\n",
    "d.drop(d.loc[57:].index,inplace=True)"
   ]
  },
  {
   "cell_type": "code",
   "execution_count": null,
   "metadata": {
    "scrolled": true
   },
   "outputs": [],
   "source": [
    "d.head()"
   ]
  },
  {
   "cell_type": "code",
   "execution_count": null,
   "metadata": {},
   "outputs": [],
   "source": [
    "d.dtypes"
   ]
  },
  {
   "cell_type": "code",
   "execution_count": null,
   "metadata": {},
   "outputs": [],
   "source": [
    "#d.loc[:, d.columns != 'Location']=d.loc[:, d.columns != 'Location'].apply(pd.to_numeric)\n",
    "#d['Number of COVID-19 Cases']= (d['Number of COVID-19 Cases'].str.split()).apply(lambda x: float(d[:,1].replace(',','')))\n",
    "\n",
    "d=d.replace(\",\",\"\",regex=True)\n"
   ]
  },
  {
   "cell_type": "code",
   "execution_count": null,
   "metadata": {},
   "outputs": [],
   "source": [
    "d.sample()"
   ]
  },
  {
   "cell_type": "code",
   "execution_count": null,
   "metadata": {},
   "outputs": [],
   "source": [
    "d.loc[:, d.columns != 'Location']=d.loc[:, d.columns != 'Location'].apply(pd.to_numeric)"
   ]
  },
  {
   "cell_type": "code",
   "execution_count": null,
   "metadata": {},
   "outputs": [],
   "source": [
    "d.dtypes"
   ]
  },
  {
   "cell_type": "code",
   "execution_count": null,
   "metadata": {},
   "outputs": [],
   "source": []
  },
  {
   "cell_type": "code",
   "execution_count": null,
   "metadata": {
    "scrolled": false
   },
   "outputs": [],
   "source": [
    "d.head()"
   ]
  },
  {
   "cell_type": "code",
   "execution_count": null,
   "metadata": {},
   "outputs": [],
   "source": [
    "d.dtypes"
   ]
  },
  {
   "cell_type": "code",
   "execution_count": null,
   "metadata": {},
   "outputs": [],
   "source": [
    "\n",
    "d.style.background_gradient(cmap='Blues',subset=[\"Number of COVID-19 Cases\"])\\\n",
    "                        .background_gradient(cmap='Reds',subset=[\"COVID-19 Cases per 1,000,000 Population\"])\\\n",
    "                        .background_gradient(cmap='Greens',subset=[\"Deaths from COVID-19\"])\\\n",
    "                        .background_gradient(cmap='Purples',subset=[\"COVID-19 Deaths per 1,000,000 Population\"])\\\n",
    "                        .background_gradient(cmap='Pastel1_r',subset=[\"COVID-19 Fatality Rate\"])\\\n",
    "                        .format(\"{:.0f}\",subset=[\"COVID-19 Deaths per 1,000,000 Population\",\"Deaths from COVID-19\",\"COVID-19 Cases per 1,000,000 Population\",\"Number of COVID-19 Cases\"])"
   ]
  },
  {
   "cell_type": "code",
   "execution_count": null,
   "metadata": {},
   "outputs": [],
   "source": [
    "e=pd.read_csv(r'E:\\Dataset\\raw_data (14).csv', skiprows=2)\n",
    "pd.set_option('display.max_colwidth', None)\n",
    "pd.set_option(\"display.max_columns\",None)\n",
    "pd.set_option(\"display.max_rows\",None)\n"
   ]
  },
  {
   "cell_type": "code",
   "execution_count": null,
   "metadata": {},
   "outputs": [],
   "source": [
    "e.head()"
   ]
  },
  {
   "cell_type": "code",
   "execution_count": null,
   "metadata": {
    "scrolled": false
   },
   "outputs": [],
   "source": [
    "e.drop(e.loc[52:].index,inplace=True)\n",
    "#e.drop(e.index[0], inplace=True)\n",
    "e.drop(e.head(1).index,inplace=True)\n",
    "e.reset_index(drop=True,inplace=True)"
   ]
  },
  {
   "cell_type": "code",
   "execution_count": null,
   "metadata": {},
   "outputs": [],
   "source": [
    "e"
   ]
  },
  {
   "cell_type": "code",
   "execution_count": null,
   "metadata": {},
   "outputs": [],
   "source": [
    "abbv=pd.read_csv(r'E:\\Downloads\\csvData.csv')"
   ]
  },
  {
   "cell_type": "code",
   "execution_count": null,
   "metadata": {},
   "outputs": [],
   "source": [
    "abbv.head()"
   ]
  },
  {
   "cell_type": "code",
   "execution_count": null,
   "metadata": {},
   "outputs": [],
   "source": [
    "ee= pd.concat([e,abbv['Code']], axis = 1, levels=0).sort_index(axis=1)"
   ]
  },
  {
   "cell_type": "code",
   "execution_count": null,
   "metadata": {},
   "outputs": [],
   "source": [
    "ee.head()"
   ]
  },
  {
   "cell_type": "code",
   "execution_count": null,
   "metadata": {},
   "outputs": [],
   "source": [
    "\n",
    "fig = px.choropleth(ee, geojson=USA-states, locations='Code', color='Total Hospitals',\n",
    "                           color_continuous_scale=\"Viridis\",\n",
    "                           range_color=(0, 12),\n",
    "                           scope=\"usa\",\n",
    "                           labels={'Total Hospitals':'Total number of Hospitals'}\n",
    "                          )\n",
    "fig.update_layout(margin={\"r\":0,\"t\":0,\"l\":0,\"b\":0})\n",
    "\n"
   ]
  },
  {
   "cell_type": "code",
   "execution_count": null,
   "metadata": {},
   "outputs": [],
   "source": [
    "fig = px.choropleth(ee,  # Input Pandas DataFrame\n",
    "                    locations=\"Code\",  # DataFrame column with locations\n",
    "                    color_continuous_scale=\"Viridis\",\n",
    "                    color='Total Hospitals',\n",
    "                    #range_color=(0, 12),  # DataFrame column with color values\n",
    "                    hover_name=\"Location\", # DataFrame column hover info\n",
    "                    locationmode = 'USA-states') # Set to plot as US States\n",
    "fig.update_layout(\n",
    "    title_text = 'State Rankings', # Create a Title\n",
    "    geo_scope='usa',  # Plot only the USA instead of globe\n",
    ")"
   ]
  },
  {
   "cell_type": "code",
   "execution_count": null,
   "metadata": {},
   "outputs": [],
   "source": []
  },
  {
   "cell_type": "code",
   "execution_count": null,
   "metadata": {},
   "outputs": [],
   "source": []
  },
  {
   "cell_type": "code",
   "execution_count": null,
   "metadata": {},
   "outputs": [],
   "source": []
  },
  {
   "cell_type": "code",
   "execution_count": null,
   "metadata": {},
   "outputs": [],
   "source": [
    "f=pd.read_csv(r'E:\\Dataset\\raw_data (15).csv', skiprows=2)\n",
    "pd.set_option('display.max_colwidth', None)\n",
    "pd.set_option(\"display.max_columns\",None)\n",
    "pd.set_option(\"display.max_rows\",None)\n",
    "\n"
   ]
  },
  {
   "cell_type": "code",
   "execution_count": null,
   "metadata": {},
   "outputs": [],
   "source": [
    "f.drop(f.loc[52:].index,inplace=True)\n",
    "f.drop(f.head(1).index,inplace=True)\n",
    "f.reset_index(drop=True,inplace=True)"
   ]
  },
  {
   "cell_type": "code",
   "execution_count": null,
   "metadata": {
    "scrolled": true
   },
   "outputs": [],
   "source": [
    "f.head()"
   ]
  },
  {
   "cell_type": "code",
   "execution_count": null,
   "metadata": {},
   "outputs": [],
   "source": [
    "fig, ax = plt.subplots()\n",
    "\n",
    "#vals = np.array([[60., 32.], [37., 40.], [29., 10.]])\n",
    "labels = f['Location']\n",
    "sizes = f['Total Hospital Beds']\n",
    "labels_vegefruit = f['Location']\n",
    "sizes_vegefruit = f['Beds per 1,000 Population']\n",
    "\n",
    "size=0.3\n",
    "\n",
    "\n",
    "cmap = plt.get_cmap(\"tab20c\")\n",
    "outer_colors = cmap(np.arange(3)*4)\n",
    "inner_colors = cmap(np.array([1, 2, 5, 6, 9, 10]))\n",
    "\n",
    "#ax.pie(vals.sum(axis=1), radius=3, colors=outer_colors,\n",
    " #      wedgeprops=dict(width=size, edgecolor='w'))\n",
    "ax.pie(sizes, labels=labels, radius=3, colors=outer_colors,rotatelabels=True,\n",
    "        wedgeprops=dict(width=size, edgecolor='w'))\n",
    "    \n",
    "    \n",
    "#ax.pie(vals.flatten(), radius=1-size, colors=inner_colors,\n",
    " #      wedgeprops=dict(width=size, edgecolor='w'))\n",
    "ax.pie(sizes_vegefruit, labels=labels_vegefruit, radius=2, colors=inner_colors,rotatelabels=True,\n",
    "       wedgeprops=dict(width=size, edgecolor='w'))\n",
    "\n",
    "    \n",
    "    \n",
    "#ax.set(aspect=\"equal\", title='Total Hospital Beds and Beds/1k Population')\n",
    "#ax.set(aspect=\"equal\")\n",
    "plt.title('Total Hospital Beds and Beds/1k Population',y=2)\n",
    "plt.tight_layout()\n",
    "plt.show()"
   ]
  },
  {
   "cell_type": "code",
   "execution_count": null,
   "metadata": {},
   "outputs": [],
   "source": [
    "\n",
    "fig, ax = plt.subplots(figsize=(10,8),subplot_kw=dict(aspect=\"equal\"))\n",
    "res= f['Total Hospital Beds']\n",
    "#vals = np.array([[60., 32.], [37., 40.], [29., 10.]])\n",
    "labels = f['Location']\n",
    "sizes = f['Total Hospital Beds']\n",
    "\n",
    "\n",
    "cmap = plt.get_cmap(\"tab20c\")\n",
    "outer_colors = cmap(np.arange(3)*4)\n",
    "\n",
    "wedges,texts=ax.pie(sizes,labels=labels, colors=outer_colors,startangle=90,rotatelabels=True,\n",
    "        wedgeprops=dict(width=0.5, edgecolor='w'))\n",
    "\n",
    "bbox_props = dict(boxstyle=\"square,pad=0.3\", fc=\"w\", ec=\"k\", lw=0.72)\n",
    "kw = dict(arrowprops=dict(arrowstyle=\"-\"),\n",
    "          bbox=bbox_props, zorder=0, va=\"center\")\n",
    "\n",
    "for i, p in enumerate(wedges):\n",
    "    ang = (p.theta2 - p.theta1)/2. + p.theta1\n",
    "    y = np.sin(np.deg2rad(ang))\n",
    "    x = np.cos(np.deg2rad(ang))\n",
    "    horizontalalignment = {-1: \"right\", 1: \"left\"}[int(np.sign(x))]\n",
    "    connectionstyle = \"angle,angleA=0,angleB={}\".format(ang)\n",
    "    kw[\"arrowprops\"].update({\"connectionstyle\": connectionstyle})\n",
    "    ax.annotate(res[i], xy=(x, y), xytext=(1.35*np.sign(x), 1.4*y),\n",
    "                horizontalalignment=horizontalalignment, **kw)\n",
    "\n",
    "plt.title('Total Hospital Beds',y=1.2)\n",
    "plt.tight_layout()\n",
    "plt.show()"
   ]
  },
  {
   "cell_type": "code",
   "execution_count": null,
   "metadata": {},
   "outputs": [],
   "source": [
    "g=pd.read_csv(r'E:\\Dataset\\raw_data (16).csv', skiprows=2)\n",
    "pd.set_option('display.max_colwidth', None)\n",
    "pd.set_option(\"display.max_columns\",None)\n",
    "pd.set_option(\"display.max_rows\",None)\n"
   ]
  },
  {
   "cell_type": "code",
   "execution_count": null,
   "metadata": {},
   "outputs": [],
   "source": [
    "g.head()"
   ]
  },
  {
   "cell_type": "code",
   "execution_count": null,
   "metadata": {},
   "outputs": [],
   "source": [
    "g.drop(g.loc[52:].index,inplace=True)"
   ]
  },
  {
   "cell_type": "code",
   "execution_count": null,
   "metadata": {},
   "outputs": [],
   "source": [
    "g.sample(5)"
   ]
  },
  {
   "cell_type": "code",
   "execution_count": null,
   "metadata": {},
   "outputs": [],
   "source": [
    "g.dropna(inplace=True)"
   ]
  },
  {
   "cell_type": "code",
   "execution_count": null,
   "metadata": {},
   "outputs": [],
   "source": [
    "g.head()"
   ]
  },
  {
   "cell_type": "code",
   "execution_count": null,
   "metadata": {},
   "outputs": [],
   "source": [
    "plt.style.use('seaborn')"
   ]
  },
  {
   "cell_type": "code",
   "execution_count": null,
   "metadata": {},
   "outputs": [],
   "source": [
    "plt.figure(figsize=(10,8))\n",
    "state=g['State/Local Government']\n",
    "non=g['Non-Profit']\n",
    "forp=g['For-Profit']\n",
    "loc=g['Location']\n",
    "plt.scatter(state,loc,edgecolor='black',linewidth=1,alpha=0.75,label='State\\Local Government Hospital')\n",
    "plt.scatter(non,loc,edgecolor='black',linewidth=1,alpha=0.75,label='Non-Profit Hospital')\n",
    "plt.scatter(forp,loc,edgecolor='black',linewidth=1,alpha=0.75,label='For-Profit Hospital')\n",
    "plt.legend()\n",
    "\n",
    "plt.xlabel('Hospital Beds/1k population')\n",
    "plt.title('Hospitals Beds/1k population by Ownership type')\n",
    "plt.tight_layout()\n",
    "plt.show()"
   ]
  },
  {
   "cell_type": "code",
   "execution_count": null,
   "metadata": {},
   "outputs": [],
   "source": []
  },
  {
   "cell_type": "code",
   "execution_count": null,
   "metadata": {},
   "outputs": [],
   "source": [
    "h=pd.read_csv(r'E:\\Dataset\\raw_data (17).csv', skiprows=2)\n",
    "pd.set_option('display.max_colwidth', None)\n",
    "pd.set_option(\"display.max_columns\",None)\n",
    "pd.set_option(\"display.max_rows\",None)\n",
    "h.drop(h.loc[52:].index,inplace=True)\n"
   ]
  },
  {
   "cell_type": "code",
   "execution_count": null,
   "metadata": {},
   "outputs": [],
   "source": [
    "h=h.replace(np.nan,0)"
   ]
  },
  {
   "cell_type": "code",
   "execution_count": null,
   "metadata": {},
   "outputs": [],
   "source": [
    "h.loc[:, h.columns != 'Location']=h.loc[:, h.columns != 'Location'].astype(int)"
   ]
  },
  {
   "cell_type": "code",
   "execution_count": null,
   "metadata": {},
   "outputs": [],
   "source": [
    "h.head(14)"
   ]
  },
  {
   "cell_type": "code",
   "execution_count": null,
   "metadata": {},
   "outputs": [],
   "source": [
    "from mpl_toolkits.mplot3d import Axes3D"
   ]
  },
  {
   "cell_type": "code",
   "execution_count": null,
   "metadata": {},
   "outputs": [],
   "source": [
    "state=h['State/Local Government']\n",
    "non=h['Non-Profit']\n",
    "forp=h['For-Profit']\n",
    "loc=h['Location']\n",
    "sentence=(state,non,forp)\n",
    "\n",
    "def simpleGeneratorFun(): \n",
    "    yield non       \n",
    "    yield forp           \n",
    "    yield state            \n",
    "   \n",
    "# Driver code to check above generator function \n",
    "for value in simpleGeneratorFun():  \n",
    "    print(value)"
   ]
  },
  {
   "cell_type": "code",
   "execution_count": null,
   "metadata": {},
   "outputs": [],
   "source": [
    "\n",
    "state=h['State/Local Government']\n",
    "non=h['Non-Profit']\n",
    "forp=h['For-Profit']\n",
    "loc=h['Location']\n",
    "sentence=(state,non,forp)\n",
    "\n",
    "fig = plt.figure(figsize=(10,8))\n",
    "ax = fig.add_subplot(111, projection='3d')\n",
    "\n",
    "\n",
    "\n",
    "colors = ['r', 'g', 'b']\n",
    "yticks = [2, 1, 0]\n",
    "for c, k in zip(colors, yticks):\n",
    "    \n",
    "    xs = loc\n",
    "    ys = value\n",
    "    \n",
    "    cs = [c] * len(xs)\n",
    "    cs[0] = 'c'\n",
    "\n",
    "    ax.bar(xs, height=value, zs=k, zdir='y', color=cs, alpha=0.8)\n",
    "    \n",
    "ax.set_xlabel('X')\n",
    "ax.set_ylabel('Y')\n",
    "ax.set_zlabel('Z')\n",
    "\n",
    "ax.set_yticks(yticks)\n",
    "\n",
    "plt.show()\n",
    "\n",
    "\n",
    "              "
   ]
  },
  {
   "cell_type": "code",
   "execution_count": null,
   "metadata": {},
   "outputs": [],
   "source": [
    "i=pd.read_csv(r'E:\\Dataset\\raw_data (21).csv', skiprows=2)\n",
    "pd.set_option('display.max_colwidth', None)\n",
    "pd.set_option(\"display.max_columns\",None)\n",
    "pd.set_option(\"display.max_rows\",None)\n",
    "i.drop(i.loc[52:].index,inplace=True)\n"
   ]
  },
  {
   "cell_type": "code",
   "execution_count": null,
   "metadata": {
    "scrolled": true
   },
   "outputs": [],
   "source": [
    "i.head()"
   ]
  },
  {
   "cell_type": "code",
   "execution_count": null,
   "metadata": {},
   "outputs": [],
   "source": []
  },
  {
   "cell_type": "code",
   "execution_count": null,
   "metadata": {},
   "outputs": [],
   "source": []
  },
  {
   "cell_type": "code",
   "execution_count": null,
   "metadata": {},
   "outputs": [],
   "source": []
  },
  {
   "cell_type": "code",
   "execution_count": null,
   "metadata": {},
   "outputs": [],
   "source": [
    "j=pd.read_csv(r'E:\\Dataset\\raw_data (22).csv', skiprows=2)\n",
    "pd.set_option('display.max_colwidth', None)\n",
    "pd.set_option(\"display.max_columns\",None)\n",
    "pd.set_option(\"display.max_rows\",None)\n",
    "j.drop(j.loc[52:].index,inplace=True)\n",
    "j=j.drop(['Footnotes'],axis=1)\n"
   ]
  },
  {
   "cell_type": "code",
   "execution_count": null,
   "metadata": {},
   "outputs": [],
   "source": [
    "j.head()"
   ]
  },
  {
   "cell_type": "code",
   "execution_count": null,
   "metadata": {},
   "outputs": [],
   "source": []
  },
  {
   "cell_type": "code",
   "execution_count": null,
   "metadata": {},
   "outputs": [],
   "source": []
  },
  {
   "cell_type": "code",
   "execution_count": null,
   "metadata": {},
   "outputs": [],
   "source": [
    "k=pd.read_csv(r'E:\\Dataset\\raw_data (23).csv', skiprows=2)\n",
    "pd.set_option('display.max_colwidth', None)\n",
    "pd.set_option(\"display.max_columns\",None)\n",
    "pd.set_option(\"display.max_rows\",None)\n",
    "k.drop(k.loc[52:].index,inplace=True)"
   ]
  },
  {
   "cell_type": "code",
   "execution_count": null,
   "metadata": {
    "scrolled": true
   },
   "outputs": [],
   "source": [
    "k.head()"
   ]
  },
  {
   "cell_type": "code",
   "execution_count": null,
   "metadata": {},
   "outputs": [],
   "source": [
    "gh= pd.concat([i,j,k], axis = 1, levels=0).sort_index(axis=1)"
   ]
  },
  {
   "cell_type": "code",
   "execution_count": null,
   "metadata": {
    "scrolled": true
   },
   "outputs": [],
   "source": [
    "gh.sample()"
   ]
  },
  {
   "cell_type": "markdown",
   "metadata": {},
   "source": [
    "not working below statements to locate and delete column name"
   ]
  },
  {
   "cell_type": "code",
   "execution_count": null,
   "metadata": {},
   "outputs": [],
   "source": [
    "#gh.iloc[:, 2:3]\n",
    "#gh.drop(gh.iloc[:, 2:3], inplace = False, axis = 1) \n",
    "#gh.drop(columns=[3], axis=1, inplace=False)\n",
    "gh = gh.loc[:,~gh.columns.duplicated()]"
   ]
  },
  {
   "cell_type": "code",
   "execution_count": null,
   "metadata": {},
   "outputs": [],
   "source": [
    "gh.sample()"
   ]
  },
  {
   "cell_type": "code",
   "execution_count": null,
   "metadata": {},
   "outputs": [],
   "source": [
    "gh.set_index('Location',inplace=True)"
   ]
  },
  {
   "cell_type": "code",
   "execution_count": null,
   "metadata": {},
   "outputs": [],
   "source": [
    "gh.rename(columns = {'Total':'Total Physicians'}, inplace = True)"
   ]
  },
  {
   "cell_type": "code",
   "execution_count": null,
   "metadata": {
    "scrolled": true
   },
   "outputs": [],
   "source": [
    "gh.head()"
   ]
  },
  {
   "cell_type": "code",
   "execution_count": null,
   "metadata": {},
   "outputs": [],
   "source": [
    "gh.dtypes"
   ]
  },
  {
   "cell_type": "code",
   "execution_count": null,
   "metadata": {
    "scrolled": true
   },
   "outputs": [],
   "source": [
    "\n",
    "gh.style.background_gradient(cmap='Blues',subset=[\"ICU Beds\"])\\\n",
    "                        .background_gradient(cmap='Reds',subset=[\"ICU Beds per 10,000 Population\"])\\\n",
    "                        .format(\"{:.1f}\")\\\n",
    "                        .background_gradient(cmap='Greens',subset=[\"Primary Care Physicians\"])\\\n",
    "                        .background_gradient(cmap='Purples',subset=[\"Specialist Physicians\"])\\\n",
    "                        .background_gradient(cmap='Pastel1_r',subset=[\"Total Physicians\"])\\\n",
    "                        .background_gradient(cmap='YlOrBr',subset=[\"Total Residents\"])\\\n",
    "                        .format(\"{:.0f}\",subset=[\"Primary Care Physicians\",\"Specialist Physicians\",\"Total Physicians\",\"ICU Beds\",\"Total Residents\"])\n",
    "                                                                                                           \n",
    "                        #.background_gradient(cmap='YlOrBr',subset=[\"Mortality Rate (per 100)\"])\\\n",
    "                        #.format(\"{:.2f}\")\\\n",
    "                        #.format(\"{:.0f}\",subset=[\"Confirmed\",\"Deaths\",\"Recovered\",\"Active\"])"
   ]
  },
  {
   "cell_type": "code",
   "execution_count": null,
   "metadata": {},
   "outputs": [],
   "source": [
    "n=pd.read_csv(r'E:\\Dataset\\usa_county_wise.csv')"
   ]
  },
  {
   "cell_type": "code",
   "execution_count": null,
   "metadata": {},
   "outputs": [],
   "source": [
    "n.head(10)"
   ]
  },
  {
   "cell_type": "code",
   "execution_count": null,
   "metadata": {},
   "outputs": [],
   "source": [
    "n=n.drop(['Country_Region','Admin2','code3'],axis=1)"
   ]
  },
  {
   "cell_type": "code",
   "execution_count": null,
   "metadata": {},
   "outputs": [],
   "source": [
    "n.shape"
   ]
  },
  {
   "cell_type": "code",
   "execution_count": null,
   "metadata": {},
   "outputs": [],
   "source": [
    "pq=n.head(200000)"
   ]
  },
  {
   "cell_type": "code",
   "execution_count": null,
   "metadata": {
    "scrolled": true
   },
   "outputs": [],
   "source": [
    "#df_data = df_table.groupby(['Last_Update', 'Country_Region'])['Confirmed', 'Deaths'].max().reset_index().fillna(0)\n",
    "#df_data[\"Last_Update\"] = pd.to_datetime( df_data[\"Last_Update\"]).dt.strftime('%m/%d/%Y')\n",
    "\n",
    "fig = px.scatter_geo(pq, locations='FIPS', locationmode='ISO-3',\n",
    "                     lat= 'Lat',\n",
    "                     lon='Long_',\n",
    "                     color=np.power(pq[\"Confirmed\"],0.3)-2 , \n",
    "                     size= np.power(pq[\"Confirmed\"]+1,0.3)-1,\n",
    "                     hover_name='Combined_Key',\n",
    "                     hover_data=['Confirmed'],\n",
    "                     range_color= [0, max(np.power(pq[\"Confirmed\"],0.3))], \n",
    "                     projection=\"albers usa\", animation_frame=\"Date\", \n",
    "                     color_continuous_scale=px.colors.sequential.Plasma,\n",
    "                     title='COVID-19: Progression of spread'\n",
    "                    )\n",
    "fig.update_coloraxes(colorscale=\"hot\")\n",
    "fig.update(layout_coloraxis_showscale=False)\n",
    "fig.show()"
   ]
  },
  {
   "cell_type": "code",
   "execution_count": null,
   "metadata": {},
   "outputs": [],
   "source": [
    "fig = px.choropleth(ee,  # Input Pandas DataFrame\n",
    "                    locations=\"Code\",  # DataFrame column with locations\n",
    "                    color_continuous_scale=\"Viridis\",\n",
    "                    color='Total Hospitals',\n",
    "                    #range_color=(0, 12),  # DataFrame column with color values\n",
    "                    hover_name=\"Location\", # DataFrame column hover info\n",
    "                    locationmode = 'USA-states') # Set to plot as US States\n",
    "fig.update_layout(\n",
    "    title_text = 'State Rankings', # Create a Title\n",
    "    geo_scope='usa',  # Plot only the USA instead of globe\n",
    ")"
   ]
  },
  {
   "cell_type": "code",
   "execution_count": null,
   "metadata": {},
   "outputs": [],
   "source": []
  },
  {
   "cell_type": "code",
   "execution_count": null,
   "metadata": {},
   "outputs": [],
   "source": [
    "m=pd.read_csv(r'E:\\Dataset\\raw_data (28).csv', skiprows=2)\n",
    "pd.set_option('display.max_colwidth', None)\n",
    "pd.set_option(\"display.max_columns\",None)\n",
    "pd.set_option(\"display.max_rows\",None)\n",
    "m.drop(m.loc[52:].index,inplace=True)\n",
    "m=m.drop(['Footnotes'],axis=1)"
   ]
  },
  {
   "cell_type": "code",
   "execution_count": null,
   "metadata": {},
   "outputs": [],
   "source": [
    "m"
   ]
  },
  {
   "cell_type": "code",
   "execution_count": null,
   "metadata": {},
   "outputs": [],
   "source": []
  }
 ],
 "metadata": {
  "kernelspec": {
   "display_name": "Python 3",
   "language": "python",
   "name": "python3"
  },
  "language_info": {
   "codemirror_mode": {
    "name": "ipython",
    "version": 3
   },
   "file_extension": ".py",
   "mimetype": "text/x-python",
   "name": "python",
   "nbconvert_exporter": "python",
   "pygments_lexer": "ipython3",
   "version": "3.7.6"
  }
 },
 "nbformat": 4,
 "nbformat_minor": 4
}
